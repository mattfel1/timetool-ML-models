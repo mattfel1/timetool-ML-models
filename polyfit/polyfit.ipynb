{
 "cells": [
  {
   "cell_type": "code",
   "execution_count": 11,
   "metadata": {},
   "outputs": [],
   "source": [
    "# https://www.tensorflow.org/tutorials/keras/regression\n",
    "\n",
    "from __future__ import absolute_import, division, print_function, unicode_literals\n",
    "\n",
    "import pathlib\n",
    "\n",
    "from sklearn.metrics import mean_squared_error, mean_absolute_error, r2_score\n",
    "\n",
    "import matplotlib.pyplot as plt\n",
    "import numpy as np\n",
    "import pandas as pd\n",
    "import seaborn as sns\n",
    "import math\n",
    "import os"
   ]
  },
  {
   "cell_type": "code",
   "execution_count": null,
   "metadata": {},
   "outputs": [],
   "source": [
    "# hyperparameters\n",
    "minvolume = 500 # minimum required volume for a line to not be rejected (pre-filtered)\n",
    "first_last_thresh = 30 # threshold for deciding if line is a rise-only or fall-only wave\n",
    "scale = 100.0 # divide rising/falling idx by this number so it fits in fpga precision\n"
   ]
  },
  {
   "cell_type": "code",
   "execution_count": 2,
   "metadata": {},
   "outputs": [
    {
     "name": "stdout",
     "output_type": "stream",
     "text": [
      "Rejected 1810263 points (0.166070%)\n"
     ]
    }
   ],
   "source": [
    "column_names = ['fileId', 'row','rising_idx','falling_idx','volume','rising_weight',\n",
    "                'falling_weight', 'first_val', 'last_val', 'delay']\n",
    "def filterBad(dataset):\n",
    "    initial_len = len(dataset)\n",
    "    dataset = dataset[(dataset['rising_idx'] != 0)]\n",
    "    dataset = dataset[(dataset['falling_idx'] != 0)]\n",
    "    dataset = dataset[(dataset['volume'] > minvolume)]\n",
    "#     dataset = dataset[(dataset['first_val'] < 30)]\n",
    "#     dataset = dataset[(dataset['last_val'] < 30)]\n",
    "    final_len = len(dataset)\n",
    "    print('Rejected %d points (%f%%)' % ((initial_len-final_len), (initial_len-final_len)/initial_len))\n",
    "    return dataset\n",
    "\n",
    "raw_dataset =  pd.read_feather('../preprocessing/processed.feather')\n",
    "raw_dataset = filterBad(raw_dataset)\n",
    "# visualize_dataset = raw_dataset.sample(frac=0.01)\n",
    "# sns.pairplot(visualize_dataset[column_names], diag_kind=\"kde\")\n",
    "\n",
    "\n",
    "dataset = raw_dataset.copy()\n",
    "dataset.tail()\n",
    "\n",
    "dataset = dataset.dropna()\n",
    "dataset = dataset.drop(columns=['fileId', 'row'])\n",
    "\n",
    "dataset = pd.get_dummies(dataset, prefix='', prefix_sep='')\n",
    "dataset.tail()\n",
    "train_dataset = dataset.sample(frac=0.8,random_state=0)\n",
    "\n",
    "test_dataset = dataset.drop(train_dataset.index)\n",
    "# sns.pairplot(train_dataset[[\"row\",\"rising_idx\", \"falling_idx\", \"volume\", \"rising_weight\", \"falling_weight\", \"delay\"]], diag_kind=\"kde\")\n",
    "train_stats = train_dataset.describe()\n",
    "train_stats.pop(\"delay\")\n",
    "train_stats = train_stats.transpose()\n",
    "train_stats\n",
    "train_labels = train_dataset.pop('delay')\n",
    "test_labels = test_dataset.pop('delay')\n",
    "\n",
    "\n",
    "\n"
   ]
  },
  {
   "cell_type": "code",
   "execution_count": 3,
   "metadata": {},
   "outputs": [
    {
     "name": "stdout",
     "output_type": "stream",
     "text": [
      "val rising_model = Seq(-1.3856189477301577.to[T],47.84993584308752.to[T],-977.8034355526304.to[T],1916.1962081617075.to[T])\n",
      "val falling_model = Seq(-0.5955960893359528.to[T],35.71560251795508.to[T],-924.0859562063667.to[T],3244.657042078325.to[T])\n"
     ]
    }
   ],
   "source": [
    "def norm(x):\n",
    "  return (x - train_stats['mean']) / train_stats['std']\n",
    "normed_train_data = norm(train_dataset)\n",
    "normed_test_data = norm(test_dataset)\n",
    "\n",
    "def train_model(x,y,degree):\n",
    "  model = np.polyfit(x,y,degree)\n",
    "  return model\n",
    "\n",
    "\n",
    "def predict(pt, rising_model, falling_model):\n",
    "    tyr = np.sum([m * math.pow(pt['rising_idx'] / scale,i) for i,m in enumerate(rising_model[::-1])])\n",
    "    tyf = np.sum([m * math.pow(pt['falling_idx'] / scale,i) for i,m in enumerate(falling_model[::-1])])\n",
    "    \n",
    "    if (pt['first_val'] >= first_last_thresh): return tyf # only use falling\n",
    "    elif (pt['last_val'] >= first_last_thresh): return tyr # only use rising\n",
    "    return (tyr + tyf) / 2 # use both rising and falling\n",
    "\n",
    "\n",
    "rising_dataset = train_dataset[(train_dataset['first_val'] < first_last_thresh)]\n",
    "rising_labels = train_labels[(train_dataset['first_val'] < first_last_thresh)]\n",
    "rising_model = train_model(rising_dataset['rising_idx'] / scale, rising_labels, 3)\n",
    "print('val rising_model = Seq(%s)' % ','.join([str(x) + '.to[T]' for x in rising_model]))\n",
    "falling_dataset = train_dataset[(train_dataset['last_val'] < first_last_thresh)]\n",
    "falling_labels = train_labels[(train_dataset['last_val'] < first_last_thresh)]\n",
    "falling_model = train_model(falling_dataset['falling_idx'] / scale, falling_labels, 3)\n",
    "print('val falling_model = Seq(%s)' % ','.join([str(x) + '.to[T]' for x in falling_model]))\n"
   ]
  },
  {
   "cell_type": "code",
   "execution_count": null,
   "metadata": {},
   "outputs": [],
   "source": [
    "import numpy.polynomial.polynomial as poly\n",
    "ffit = poly.Polynomial(rising_model[::-1])    # instead of np.poly1d\n",
    "\n",
    "# fig1 = plt.figure()                                                                                           \n",
    "# ax1 = fig1.add_subplot(111)                                                                                   \n",
    "# ax1.scatter(train_dataset['rising_idx'] / scale, train_labels)    \n",
    "# s = np.array(sorted(train_dataset['rising_idx'] / scale)).astype(float)\n",
    "# plt.plot(s, ffit(s))\n",
    "# plt.show()"
   ]
  },
  {
   "cell_type": "code",
   "execution_count": 13,
   "metadata": {},
   "outputs": [
    {
     "name": "stdout",
     "output_type": "stream",
     "text": [
      "MSE: 10153.000136\n",
      "MAE: 27.392674\n",
      "r2: 0.992851\n"
     ]
    }
   ],
   "source": [
    "# loss, mae, mse = model.evaluate(normed_test_data, test_labels, verbose=2)\n",
    "\n",
    "preds = [predict(x[1], rising_model, falling_model) for x,y in zip(test_dataset.iterrows(), test_labels)]\n",
    "rmse = mean_squared_error(test_labels, preds)\n",
    "rmae = mean_absolute_error(test_labels, preds)\n",
    "r2 = r2_score(test_labels, preds)\n",
    "print(\"MSE, MAE, r2: %f,%f,%f\" % (rmse, rmae, r2))\n"
   ]
  },
  {
   "cell_type": "code",
   "execution_count": null,
   "metadata": {},
   "outputs": [],
   "source": [
    "df2 = pd.DataFrame({\"rising_idx\":[157],\n",
    "    \"falling_idx\":[341],\n",
    "    \"volume\":[12039],\n",
    "    \"rising_weight\":[35.2498],\n",
    "    \"falling_weight\":[-28.1037], \n",
    "    \"first_val\":[12],\n",
    "    \"last_val\":[0]})\n",
    "print(predict(df2, rising_model, falling_model))\n",
    "print('True label = %f' % 509.093)"
   ]
  },
  {
   "cell_type": "code",
   "execution_count": null,
   "metadata": {},
   "outputs": [],
   "source": []
  },
  {
   "cell_type": "code",
   "execution_count": null,
   "metadata": {},
   "outputs": [],
   "source": []
  },
  {
   "cell_type": "code",
   "execution_count": null,
   "metadata": {},
   "outputs": [],
   "source": []
  },
  {
   "cell_type": "code",
   "execution_count": null,
   "metadata": {},
   "outputs": [],
   "source": []
  },
  {
   "cell_type": "code",
   "execution_count": null,
   "metadata": {},
   "outputs": [],
   "source": []
  },
  {
   "cell_type": "code",
   "execution_count": null,
   "metadata": {},
   "outputs": [],
   "source": []
  },
  {
   "cell_type": "code",
   "execution_count": null,
   "metadata": {},
   "outputs": [],
   "source": []
  },
  {
   "cell_type": "code",
   "execution_count": null,
   "metadata": {},
   "outputs": [],
   "source": []
  },
  {
   "cell_type": "code",
   "execution_count": null,
   "metadata": {},
   "outputs": [],
   "source": []
  },
  {
   "cell_type": "code",
   "execution_count": null,
   "metadata": {},
   "outputs": [],
   "source": []
  }
 ],
 "metadata": {
  "kernelspec": {
   "display_name": "Python 3",
   "language": "python",
   "name": "python3"
  },
  "language_info": {
   "codemirror_mode": {
    "name": "ipython",
    "version": 3
   },
   "file_extension": ".py",
   "mimetype": "text/x-python",
   "name": "python",
   "nbconvert_exporter": "python",
   "pygments_lexer": "ipython3",
   "version": "3.7.3"
  }
 },
 "nbformat": 4,
 "nbformat_minor": 4
}
