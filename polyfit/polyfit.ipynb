{
 "cells": [
  {
   "cell_type": "code",
   "execution_count": 51,
   "metadata": {},
   "outputs": [],
   "source": [
    "# https://www.tensorflow.org/tutorials/keras/regression\n",
    "\n",
    "from __future__ import absolute_import, division, print_function, unicode_literals\n",
    "\n",
    "import pathlib\n",
    "\n",
    "import matplotlib.pyplot as plt\n",
    "import numpy as np\n",
    "import pandas as pd\n",
    "import seaborn as sns\n",
    "import math\n",
    "import os"
   ]
  },
  {
   "cell_type": "code",
   "execution_count": 44,
   "metadata": {},
   "outputs": [],
   "source": [
    "\n",
    "\n",
    "column_names = ['fileId', 'row','rising_idx','falling_idx','volume','rising_weight',\n",
    "                'falling_weight', 'delay']\n",
    "\n",
    "raw_dataset = pd.read_csv('../preprocessing/processed_baby.csv', names=column_names,\n",
    "                      na_values = \"?\", comment='\\t',\n",
    "                      sep=\",\", skipinitialspace=True, usecols = column_names[1:])\n",
    "\n",
    "dataset = raw_dataset.copy()\n",
    "dataset.tail()\n",
    "\n",
    "dataset = dataset.dropna()\n",
    "dataset = pd.get_dummies(dataset, prefix='', prefix_sep='')\n",
    "dataset.tail()\n",
    "train_dataset = dataset.sample(frac=0.8,random_state=0)\n",
    "test_dataset = dataset.drop(train_dataset.index)\n",
    "# sns.pairplot(train_dataset[[\"row\",\"rising_idx\", \"falling_idx\", \"volume\", \"rising_weight\", \"falling_weight\", \"delay\"]], diag_kind=\"kde\")\n",
    "train_stats = train_dataset.describe()\n",
    "train_stats.pop(\"delay\")\n",
    "train_stats = train_stats.transpose()\n",
    "train_stats\n",
    "train_labels = train_dataset.pop('delay')\n",
    "test_labels = test_dataset.pop('delay')\n",
    "\n",
    "\n",
    "\n"
   ]
  },
  {
   "cell_type": "code",
   "execution_count": 63,
   "metadata": {},
   "outputs": [
    {
     "name": "stdout",
     "output_type": "stream",
     "text": [
      "val rising_model = Seq(2.7127902100930554e-06.to[T],0.0017402301385554485.to[T],-9.748326193440434.to[T],2108.501451402893.to[T])\n",
      "val falling_model = Seq(-9.49126656694674e-07.to[T],0.004153170356154755.to[T],-9.53119098480341.to[T],3284.9897800437307.to[T])\n"
     ]
    }
   ],
   "source": [
    "def norm(x):\n",
    "  return (x - train_stats['mean']) / train_stats['std']\n",
    "normed_train_data = norm(train_dataset)\n",
    "normed_test_data = norm(test_dataset)\n",
    "\n",
    "def train_model(x,y,degree):\n",
    "  model = np.polyfit(x,y,degree)\n",
    "  return model\n",
    "\n",
    "def predict(pt, rising_model, falling_model):\n",
    "    tyr = np.sum([m * math.pow(pt['rising_idx'],i) for i,m in enumerate(rising_model[::-1])])\n",
    "    tyf = np.sum([m * math.pow(pt['falling_idx'],i) for i,m in enumerate(falling_model[::-1])])\n",
    "    return (tyr + tyf) / 2\n",
    "    \n",
    "rising_model = train_model(train_dataset['rising_idx'], train_labels, 3)\n",
    "print('val rising_model = Seq(%s)' % ','.join([str(x) + '.to[T]' for x in rising_model]))\n",
    "falling_model = train_model(train_dataset['falling_idx'], train_labels, 3)\n",
    "print('val falling_model = Seq(%s)' % ','.join([str(x) + '.to[T]' for x in falling_model]))\n"
   ]
  },
  {
   "cell_type": "code",
   "execution_count": 64,
   "metadata": {},
   "outputs": [
    {
     "data": {
      "image/png": "[encoded data removed]",
      "text/plain": [
       "<Figure size 432x288 with 1 Axes>"
      ]
     },
     "metadata": {
      "needs_background": "light"
     },
     "output_type": "display_data"
    }
   ],
   "source": [
    "import numpy.polynomial.polynomial as poly\n",
    "ffit = poly.Polynomial(rising_model[::-1])    # instead of np.poly1d\n",
    "\n",
    "fig1 = plt.figure()                                                                                           \n",
    "ax1 = fig1.add_subplot(111)                                                                                   \n",
    "ax1.scatter(train_dataset['rising_idx'], train_labels)    \n",
    "s = np.array(sorted(train_dataset['rising_idx'])).astype(float)\n",
    "plt.plot(s, ffit(s))\n",
    "plt.show()"
   ]
  },
  {
   "cell_type": "code",
   "execution_count": 115,
   "metadata": {},
   "outputs": [
    {
     "name": "stdout",
     "output_type": "stream",
     "text": [
      "Testing set Mean Sq Error: 1640461.18 ns\n",
      "Testing set Mean Abs Error: 1048.20 ns\n"
     ]
    }
   ],
   "source": [
    "# loss, mae, mse = model.evaluate(normed_test_data, test_labels, verbose=2)\n",
    "\n",
    "d = [predict(x[1], rising_model, falling_model) for x,y in zip(test_dataset.iterrows(), test_labels)]\n",
    "mse = np.mean([math.pow(t,2) for t in d])\n",
    "mae = np.mean([abs(t) for t in d])\n",
    "\n",
    "print(\"Testing set Mean Sq Error: {:5.2f} ns\".format(mse))\n",
    "print(\"Testing set Mean Abs Error: {:5.2f} ns\".format(mae))"
   ]
  },
  {
   "cell_type": "code",
   "execution_count": null,
   "metadata": {},
   "outputs": [],
   "source": []
  },
  {
   "cell_type": "code",
   "execution_count": 122,
   "metadata": {},
   "outputs": [
    {
     "name": "stdout",
     "output_type": "stream",
     "text": [
      "555.7806178373594\n",
      "True label = 509.093000\n"
     ]
    }
   ],
   "source": [
    "df2 = pd.DataFrame({\"rising_idx\":[157],\n",
    "    \"falling_idx\":[341],\n",
    "    \"volume\":[12039],\n",
    "    \"rising_weight\":[35.2498],\n",
    "    \"falling_weight\":[-28.1037]})\n",
    "print(predict(df2, rising_model, falling_model))\n",
    "print('True label = %f' % 509.093)"
   ]
  },
  {
   "cell_type": "code",
   "execution_count": null,
   "metadata": {},
   "outputs": [],
   "source": []
  }
 ],
 "metadata": {
  "kernelspec": {
   "display_name": "Python 3",
   "language": "python",
   "name": "python3"
  },
  "language_info": {
   "codemirror_mode": {
    "name": "ipython",
    "version": 3
   },
   "file_extension": ".py",
   "mimetype": "text/x-python",
   "name": "python",
   "nbconvert_exporter": "python",
   "pygments_lexer": "ipython3",
   "version": "3.7.4"
  }
 },
 "nbformat": 4,
 "nbformat_minor": 4
}
