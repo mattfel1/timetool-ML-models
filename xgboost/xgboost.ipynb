{
 "cells": [
  {
   "cell_type": "code",
   "execution_count": null,
   "metadata": {},
   "outputs": [],
   "source": [
    "from sklearn.datasets import load_boston\n",
    "import os\n",
    "\n",
    "\n",
    "\n",
    "import pathlib\n",
    "\n",
    "import matplotlib.pyplot as plt\n",
    "import numpy as np\n",
    "import pandas as pd\n",
    "import seaborn as sns\n",
    "import os\n",
    "# boston = load_boston()"
   ]
  },
  {
   "cell_type": "code",
   "execution_count": null,
   "metadata": {},
   "outputs": [],
   "source": [
    "import pandas as pd\n",
    "\n",
    "\n",
    "\n",
    "column_names = ['fileId', 'row','rising_idx','falling_idx','volume','rising_weight',\n",
    "                'falling_weight', 'delay']\n",
    "\n",
    "raw_dataset = pd.read_csv(os.getenv('DATA_FS') + '../preprocessing/processed.csv', names=column_names,\n",
    "                      na_values = \"?\", comment='\\t',\n",
    "                      sep=\",\", skipinitialspace=True, usecols = column_names[2:])\n",
    "\n",
    "dataset = raw_dataset.copy()\n",
    "dataset.tail()\n",
    "\n",
    "dataset = dataset.dropna()\n",
    "dataset = pd.get_dummies(dataset, prefix='', prefix_sep='')\n",
    "dataset.tail()\n",
    "train_dataset = dataset.sample(frac=0.8,random_state=0)\n",
    "test_dataset = dataset.drop(train_dataset.index)\n",
    "sns.pairplot(train_dataset[[\"rising_idx\", \"falling_idx\", \"volume\", \"rising_weight\", \"falling_weight\", \"delay\"]], diag_kind=\"kde\")\n",
    "train_stats = train_dataset.describe()\n",
    "train_stats.pop(\"delay\")\n",
    "train_stats = train_stats.transpose()\n",
    "train_stats\n",
    "train_labels = train_dataset.pop('delay')\n",
    "test_labels = test_dataset.pop('delay')\n",
    "\n",
    "\n",
    "# data = pd.DataFrame(boston.data)\n",
    "# data.columns = boston.feature_names"
   ]
  },
  {
   "cell_type": "code",
   "execution_count": null,
   "metadata": {},
   "outputs": [],
   "source": [
    "dataset.head()"
   ]
  },
  {
   "cell_type": "code",
   "execution_count": null,
   "metadata": {},
   "outputs": [],
   "source": [
    "# data['PRICE'] = boston.target"
   ]
  },
  {
   "cell_type": "code",
   "execution_count": null,
   "metadata": {},
   "outputs": [],
   "source": [
    "dataset.info()"
   ]
  },
  {
   "cell_type": "code",
   "execution_count": null,
   "metadata": {},
   "outputs": [],
   "source": [
    "dataset.describe"
   ]
  },
  {
   "cell_type": "code",
   "execution_count": null,
   "metadata": {},
   "outputs": [],
   "source": [
    "import xgboost as xgb\n",
    "from sklearn.metrics import mean_squared_error\n",
    "import pandas as pd\n",
    "import numpy as np\n"
   ]
  },
  {
   "cell_type": "code",
   "execution_count": null,
   "metadata": {},
   "outputs": [],
   "source": [
    "X, y = dataset.iloc[:,:-1],dataset.iloc[:,-1]"
   ]
  },
  {
   "cell_type": "code",
   "execution_count": null,
   "metadata": {},
   "outputs": [],
   "source": [
    "data_dmatrix = xgb.DMatrix(data=X,label=y)"
   ]
  },
  {
   "cell_type": "code",
   "execution_count": null,
   "metadata": {},
   "outputs": [],
   "source": [
    "from sklearn.model_selection import train_test_split\n",
    "\n",
    "X_train, X_test, y_train, y_test = train_test_split(X, y, test_size=0.2, random_state=123)"
   ]
  },
  {
   "cell_type": "code",
   "execution_count": null,
   "metadata": {},
   "outputs": [],
   "source": [
    "NUM_TREES = 10\n",
    "MAX_DEPTH = 5\n",
    "BASE_SCORE = 0.5\n",
    "\n",
    "xg_reg = xgb.XGBRegressor(objective ='reg:linear', base_score = BASE_SCORE, \n",
    "                          colsample_bytree = 0.3, learning_rate = 0.1,\n",
    "                          max_depth = MAX_DEPTH, alpha = 10, n_estimators = NUM_TREES)"
   ]
  },
  {
   "cell_type": "code",
   "execution_count": null,
   "metadata": {},
   "outputs": [],
   "source": [
    "xg_reg.fit(X_train,y_train)\n",
    "\n",
    "preds = xg_reg.predict(X_test)"
   ]
  },
  {
   "cell_type": "code",
   "execution_count": null,
   "metadata": {},
   "outputs": [],
   "source": [
    "rmse = np.sqrt(mean_squared_error(y_test, preds))\n",
    "print(\"RMSE: %f\" % (rmse))"
   ]
  },
  {
   "cell_type": "code",
   "execution_count": null,
   "metadata": {},
   "outputs": [],
   "source": [
    "params = {\"objective\":\"reg:linear\",'colsample_bytree': 0.3,'learning_rate': 0.1,\n",
    "                'max_depth': 6, 'alpha': 10}\n",
    "\n",
    "cv_results = xgb.cv(dtrain=data_dmatrix, params=params, nfold=3,\n",
    "                    num_boost_round=50,early_stopping_rounds=20,metrics=\"rmse\", as_pandas=True, seed=123)"
   ]
  },
  {
   "cell_type": "code",
   "execution_count": null,
   "metadata": {},
   "outputs": [],
   "source": [
    "cv_results.tail()"
   ]
  },
  {
   "cell_type": "code",
   "execution_count": null,
   "metadata": {},
   "outputs": [],
   "source": [
    "print((cv_results[\"test-rmse-mean\"]).tail(1))"
   ]
  },
  {
   "cell_type": "code",
   "execution_count": null,
   "metadata": {},
   "outputs": [],
   "source": [
    "xg_reg = xgb.train(params=params, dtrain=data_dmatrix, num_boost_round=10)"
   ]
  },
  {
   "cell_type": "code",
   "execution_count": null,
   "metadata": {},
   "outputs": [],
   "source": []
  },
  {
   "cell_type": "code",
   "execution_count": null,
   "metadata": {},
   "outputs": [],
   "source": [
    "import matplotlib.pyplot as plt\n",
    "\n",
    "import matplotlib as mpl\n",
    "mpl.rcParams['figure.dpi']= 400\n",
    "\n",
    "xgb.plot_tree(xg_reg,num_trees=0)\n",
    "plt.rcParams['figure.figsize'] = [50, 10]\n",
    "plt.show()"
   ]
  },
  {
   "cell_type": "code",
   "execution_count": null,
   "metadata": {},
   "outputs": [],
   "source": [
    "xgb.plot_importance(xg_reg)\n",
    "plt.rcParams['figure.figsize'] = [50,10]\n",
    "plt.show()"
   ]
  },
  {
   "cell_type": "code",
   "execution_count": null,
   "metadata": {},
   "outputs": [],
   "source": [
    "df2 = pd.DataFrame({\"CRIM\":[0],\n",
    "\"ZN\":[0],\n",
    "\"INDUS\":[0],\n",
    "\"CHAS\":[0],\n",
    "\"NOX\":[0],\n",
    "\"RM\":[0],\n",
    "\"AGE\":[0],\n",
    "\"DIS\":[0],\n",
    "\"RAD\":[0],\n",
    "\"TAX\":[0],\n",
    "\"PTRATIO\":[0],\n",
    "\"B\":[0],\n",
    "\"LSTAT\":[0]}\n",
    ") \n",
    "print(xg_reg.predict(df2))"
   ]
  },
  {
   "cell_type": "code",
   "execution_count": null,
   "metadata": {},
   "outputs": [],
   "source": [
    "import pickle\n",
    "import json\n",
    "import jsonpickle\n",
    "xg_reg.get_booster().dump_model('example_params')\n",
    "# xg_reg.get_booster().get_dump()\n",
    "numlines = len(open('example_params').readlines(  ))\n",
    "\n",
    "import numpy\n",
    "import math\n",
    "fields = {}\n",
    "threshes = {}\n",
    "lefts = {}\n",
    "rights = {}\n",
    "tree = -1\n",
    "num_nodes = int(math.pow(2,MAX_DEPTH+1))\n",
    "\n",
    "with open('example_params') as file:\n",
    "    for cnt, line in enumerate(file):\n",
    "        if (not 'booster' in line):\n",
    "            idx = int(line.strip().split(':')[0])\n",
    "            if ('leaf=' in line):\n",
    "                thresh = float(line.strip().split('leaf=')[-1])\n",
    "                fields[idx] = ''\n",
    "                threshes[idx] = thresh\n",
    "            else:\n",
    "                fields[idx] = line.strip().split('[')[1].split('<')[0]\n",
    "                threshes[idx] = float(line.strip().split('[')[1].split('<')[1].split(']')[0])\n",
    "                lefts[idx] = int(line.strip().split('yes=')[1].split(',')[0])\n",
    "                rights[idx] = int(line.strip().split('no=')[1].split(',')[0])\n",
    "        if (('booster' in line and cnt != 0) or cnt == numlines-1):\n",
    "            tree = tree + 1\n",
    "            scala = ['(\"\", 0.to[T])' for i in range(num_nodes)]\n",
    "    \n",
    "            # Decompress the tree into a complete tree\n",
    "            leftsArr = [lefts[0]]\n",
    "            rightsArr = [rights[0]]\n",
    "            scala[0] = '(\"%s\", %f.to[T])' % (fields[0], threshes[0])\n",
    "            for idx in range(1,num_nodes):\n",
    "                if (idx % 2 == 1 and leftsArr[int(idx/2)] != None):\n",
    "                    lookup = leftsArr[int(idx/2)]\n",
    "                elif (idx % 2 == 0 and rightsArr[int(idx/2)-1] != None):\n",
    "                    lookup = rightsArr[int(idx/2)-1]\n",
    "                else: lookup = None\n",
    "                \n",
    "                if (lookup != None):\n",
    "                    scala[idx] = '(\"%s\", %f.to[T])' % (fields[lookup], threshes[lookup])\n",
    "                    if (lookup in lefts):\n",
    "                        leftsArr.append(lefts[lookup])\n",
    "                    else:\n",
    "                        leftsArr.append(None)\n",
    "                    if (lookup in rights):\n",
    "                        rightsArr.append(rights[lookup])\n",
    "                    else:\n",
    "                        rightsArr.append(None)\n",
    "                else:\n",
    "                    leftsArr.append(None)\n",
    "                    rightsArr.append(None)\n",
    "\n",
    "\n",
    "            print('val tree%d = List(' % tree + ','.join(scala).replace(' ','') + ')')\n",
    "            fields = {}\n",
    "            threshes = {}\n",
    "            lefts = {}\n",
    "            rights = {}\n",
    "        \n",
    "print('val trees = List(%s)' % ','.join(['tree%d' % d for d in range(tree+1)]))\n",
    "print('val bias_score = %f' % BASE_SCORE)\n",
    "#         print(\"Line {}: {}\".format(cnt, line))\n"
   ]
  },
  {
   "cell_type": "code",
   "execution_count": null,
   "metadata": {},
   "outputs": [],
   "source": []
  },
  {
   "cell_type": "code",
   "execution_count": null,
   "metadata": {},
   "outputs": [],
   "source": []
  },
  {
   "cell_type": "code",
   "execution_count": null,
   "metadata": {},
   "outputs": [],
   "source": []
  },
  {
   "cell_type": "code",
   "execution_count": null,
   "metadata": {},
   "outputs": [],
   "source": []
  }
 ],
 "metadata": {
  "kernelspec": {
   "display_name": "Python 3",
   "language": "python",
   "name": "python3"
  },
  "language_info": {
   "codemirror_mode": {
    "name": "ipython",
    "version": 3
   },
   "file_extension": ".py",
   "mimetype": "text/x-python",
   "name": "python",
   "nbconvert_exporter": "python",
   "pygments_lexer": "ipython3",
   "version": "3.7.4"
  }
 },
 "nbformat": 4,
 "nbformat_minor": 2
}
